{
 "cells": [
  {
   "cell_type": "code",
   "execution_count": 5,
   "metadata": {
    "collapsed": true
   },
   "outputs": [],
   "source": [
    "from bs4 import BeautifulSoup\n",
    "import requests\n",
    "from dataclasses import dataclass\n",
    "from tqdm.notebook import tqdm\n",
    "import pandas as pd\n",
    "import sqlite3"
   ]
  },
  {
   "cell_type": "code",
   "execution_count": 4,
   "outputs": [],
   "source": [
    "\n",
    "PLAYBACK_URL = \"https://playback.fm/charts/country/\"\n",
    "FIRST_YEAR = 1944\n",
    "LAST_YEAR = 2021"
   ],
   "metadata": {
    "collapsed": false,
    "pycharm": {
     "name": "#%%\n"
    }
   }
  },
  {
   "cell_type": "code",
   "execution_count": 6,
   "outputs": [],
   "source": [
    "@dataclass\n",
    "class Track:\n",
    "    year: int\n",
    "    artist: str\n",
    "    track: str\n",
    "    rank: int\n",
    "    link: str = None\n",
    "    def __str__(self):\n",
    "        return f\"{self.year} - {self.rank}: {self.track} - {self.artist} ({self.link})\"\n",
    "\n",
    "    # Originally defined for pandas function linked below, but not necessary anymore!\n",
    "    # https://stackoverflow.com/questions/34997174/how-to-convert-list-of-model-objects-to-pandas-dataframe\n",
    "    def to_dict(self):\n",
    "        return {\n",
    "            'year': self.year,\n",
    "            'artist': self.artist,\n",
    "            'track': self.track,\n",
    "            'link': self.link,\n",
    "        }"
   ],
   "metadata": {
    "collapsed": false,
    "pycharm": {
     "name": "#%%\n"
    }
   }
  },
  {
   "cell_type": "code",
   "execution_count": 7,
   "outputs": [],
   "source": [
    "def get_songs_from(year: int):\n",
    "    site = PLAYBACK_URL + \"/\" + str(year)\n",
    "    page = requests.get(site)\n",
    "    soup = BeautifulSoup(page.content, 'html.parser')\n",
    "    soup_tracks = soup.find_all(\"tr\", itemprop=\"track\")\n",
    "    tracks = []\n",
    "    for soup in tqdm(soup_tracks):\n",
    "        artist = soup.find(\"a\", itemprop=\"byArtist\", class_=\"artist\").text.strip() or \"\"\n",
    "        link = soup.find(\"a\")[\"href\"].strip()\n",
    "        track = soup.find(\"span\", class_=\"song\", itemprop=\"name\").text.strip() or \"\"\n",
    "        rank = int(soup.find(\"td\").text.strip())\n",
    "        track = Track(year=year,artist=artist,track=track, link=link, rank=rank)\n",
    "        # print(track)\n",
    "        tracks.append(track)\n",
    "    return tracks"
   ],
   "metadata": {
    "collapsed": false,
    "pycharm": {
     "name": "#%%\n"
    }
   }
  },
  {
   "cell_type": "code",
   "execution_count": null,
   "outputs": [],
   "source": [
    "all_tracks = []\n",
    "for year in tqdm(range(FIRST_YEAR, LAST_YEAR + 1)):\n",
    "    all_tracks = all_tracks + get_songs_from(year)"
   ],
   "metadata": {
    "collapsed": false,
    "pycharm": {
     "name": "#%%\n",
     "is_executing": true
    }
   }
  },
  {
   "cell_type": "markdown",
   "source": [
    "## Convert to Pandas, SQL Export"
   ],
   "metadata": {
    "collapsed": false
   }
  },
  {
   "cell_type": "code",
   "execution_count": 10,
   "outputs": [],
   "source": [
    "tracks_df = pd.DataFrame([vars(track) for track in all_tracks])"
   ],
   "metadata": {
    "collapsed": false,
    "pycharm": {
     "name": "#%%\n"
    }
   }
  },
  {
   "cell_type": "code",
   "execution_count": 11,
   "outputs": [
    {
     "data": {
      "text/plain": "7418"
     },
     "execution_count": 11,
     "metadata": {},
     "output_type": "execute_result"
    }
   ],
   "source": [
    "tracks_db = sqlite3.connect('22-04-20-playback-fm-top-country.db')\n",
    "tracks_df.to_sql(\"tracks\", tracks_db)"
   ],
   "metadata": {
    "collapsed": false,
    "pycharm": {
     "name": "#%%\n"
    }
   }
  },
  {
   "cell_type": "code",
   "execution_count": 12,
   "outputs": [],
   "source": [
    "tracks_db.close()"
   ],
   "metadata": {
    "collapsed": false,
    "pycharm": {
     "name": "#%%\n"
    }
   }
  },
  {
   "cell_type": "markdown",
   "source": [
    "## MusicBrainz More Metadata"
   ],
   "metadata": {
    "collapsed": false
   }
  },
  {
   "cell_type": "code",
   "execution_count": 1,
   "outputs": [],
   "source": [
    "import musicbrainzngs\n",
    "from musicbrainzngs import WebServiceError\n",
    "\n",
    "musicbrainzngs.set_useragent(\"Nouserentered Song Analysis Project\", \"0.1.0\", contact=\"matthew.shu@yale.edu\")"
   ],
   "metadata": {
    "collapsed": false,
    "pycharm": {
     "name": "#%%\n"
    }
   }
  },
  {
   "cell_type": "markdown",
   "source": [],
   "metadata": {
    "collapsed": false
   }
  }
 ],
 "metadata": {
  "kernelspec": {
   "display_name": "Python 3",
   "language": "python",
   "name": "python3"
  },
  "language_info": {
   "codemirror_mode": {
    "name": "ipython",
    "version": 2
   },
   "file_extension": ".py",
   "mimetype": "text/x-python",
   "name": "python",
   "nbconvert_exporter": "python",
   "pygments_lexer": "ipython2",
   "version": "2.7.6"
  }
 },
 "nbformat": 4,
 "nbformat_minor": 0
}
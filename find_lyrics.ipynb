{
 "cells": [
  {
   "cell_type": "code",
   "execution_count": 1,
   "outputs": [],
   "source": [
    "%load_ext dotenv\n",
    "%dotenv"
   ],
   "metadata": {
    "collapsed": false,
    "pycharm": {
     "name": "#%%\n"
    }
   }
  },
  {
   "cell_type": "code",
   "execution_count": 2,
   "outputs": [],
   "source": [
    "import lyricsgenius\n",
    "genius = lyricsgenius.Genius()\n",
    "genius.verbose = False\n",
    "genius.remove_section_headers = True\n",
    "genius.skip_non_songs = True"
   ],
   "metadata": {
    "collapsed": false,
    "pycharm": {
     "name": "#%%\n"
    }
   }
  },
  {
   "cell_type": "code",
   "execution_count": 3,
   "outputs": [],
   "source": [
    "from tqdm.auto import tqdm\n",
    "tqdm.pandas()"
   ],
   "metadata": {
    "collapsed": false,
    "pycharm": {
     "name": "#%%\n"
    }
   }
  },
  {
   "cell_type": "code",
   "execution_count": 4,
   "outputs": [],
   "source": [
    "import sqlite3\n",
    "from dotenv import load_dotenv\n",
    "load_dotenv()\n",
    "import os\n",
    "import pickle"
   ],
   "metadata": {
    "collapsed": false,
    "pycharm": {
     "name": "#%%\n"
    }
   }
  },
  {
   "cell_type": "code",
   "execution_count": 5,
   "outputs": [],
   "source": [
    "SQL_FILEPATH = os.getenv(\"PLAYBACK_FILE\")\n",
    "lyrics_db = sqlite3.connect(SQL_FILEPATH)"
   ],
   "metadata": {
    "collapsed": false,
    "pycharm": {
     "name": "#%%\n"
    }
   }
  },
  {
   "cell_type": "code",
   "execution_count": 6,
   "outputs": [],
   "source": [
    "# Load Data"
   ],
   "metadata": {
    "collapsed": false,
    "pycharm": {
     "name": "#%%\n"
    }
   }
  },
  {
   "cell_type": "code",
   "execution_count": 7,
   "outputs": [
    {
     "name": "stdout",
     "output_type": "stream",
     "text": [
      "   index  year              artist                                 track  \\\n",
      "0      0  1944           Red Foley                    Smoke On The Water   \n",
      "1      1  1944  The King Cole Trio           Straighten Up And Fly Right   \n",
      "2      2  1944        Louis Jordan  Is You Is or Is You Ain't (Ma' Baby)   \n",
      "3      3  1944          Tex Ritter           I'm Wastin' My Tears on You   \n",
      "4      4  1944        Louis Jordan                          Ration Blues   \n",
      "\n",
      "   rank                                               link  \n",
      "0     1  /charts/country/video/1944/red-foley-smoke-on-...  \n",
      "1     2  /charts/country/video/1944/the-king-cole-trio-...  \n",
      "2     3  /charts/country/video/1944/louis-jordan-is-you...  \n",
      "3     4  /charts/country/video/1944/tex-ritter-im-wasti...  \n",
      "4     5  /charts/country/video/1944/louis-jordan-ration...  \n"
     ]
    }
   ],
   "source": [
    "import pandas as pd\n",
    "df = pd.read_sql_query(\"SELECT * FROM tracks\", lyrics_db)\n",
    "print(df.head())"
   ],
   "metadata": {
    "collapsed": false,
    "pycharm": {
     "name": "#%%\n"
    }
   }
  },
  {
   "cell_type": "markdown",
   "source": [
    "## Create Unique Songs Dataframe"
   ],
   "metadata": {
    "collapsed": false,
    "pycharm": {
     "name": "#%% md\n"
    }
   }
  },
  {
   "cell_type": "code",
   "execution_count": 8,
   "outputs": [],
   "source": [
    "df.rename(columns = {'index':'track_id'}, inplace=True)"
   ],
   "metadata": {
    "collapsed": false,
    "pycharm": {
     "name": "#%%\n"
    }
   }
  },
  {
   "cell_type": "code",
   "execution_count": 9,
   "outputs": [
    {
     "name": "stdout",
     "output_type": "stream",
     "text": [
      "   track_id  year              artist                                 track  \\\n",
      "0         0  1944           Red Foley                    Smoke On The Water   \n",
      "1         1  1944  The King Cole Trio           Straighten Up And Fly Right   \n",
      "2         2  1944        Louis Jordan  Is You Is or Is You Ain't (Ma' Baby)   \n",
      "3         3  1944          Tex Ritter           I'm Wastin' My Tears on You   \n",
      "4         4  1944        Louis Jordan                          Ration Blues   \n",
      "\n",
      "   rank                                               link  \n",
      "0     1  /charts/country/video/1944/red-foley-smoke-on-...  \n",
      "1     2  /charts/country/video/1944/the-king-cole-trio-...  \n",
      "2     3  /charts/country/video/1944/louis-jordan-is-you...  \n",
      "3     4  /charts/country/video/1944/tex-ritter-im-wasti...  \n",
      "4     5  /charts/country/video/1944/louis-jordan-ration...  \n"
     ]
    }
   ],
   "source": [
    "print(df.head())"
   ],
   "metadata": {
    "collapsed": false,
    "pycharm": {
     "name": "#%%\n"
    }
   }
  },
  {
   "cell_type": "markdown",
   "source": [
    "## Find Lyrics"
   ],
   "metadata": {
    "collapsed": false
   }
  },
  {
   "cell_type": "code",
   "execution_count": 10,
   "outputs": [],
   "source": [
    "def find_lyrics(row):\n",
    "    try:\n",
    "        return genius.search_song(row[\"track\"], row[\"artist\"])\n",
    "    except:\n",
    "        return \"Error\""
   ],
   "metadata": {
    "collapsed": false,
    "pycharm": {
     "name": "#%%\n"
    }
   }
  },
  {
   "cell_type": "markdown",
   "source": [],
   "metadata": {
    "collapsed": false
   }
  },
  {
   "cell_type": "code",
   "execution_count": 11,
   "outputs": [
    {
     "data": {
      "text/plain": "  0%|          | 0/7418 [00:00<?, ?it/s]",
      "application/vnd.jupyter.widget-view+json": {
       "version_major": 2,
       "version_minor": 0,
       "model_id": "ef162d67ef2c480fabfb63f28269d0d5"
      }
     },
     "metadata": {},
     "output_type": "display_data"
    }
   ],
   "source": [
    "df[\"lyrics\"] = df.progress_apply(find_lyrics, axis=1)\n",
    "df.to_pickle(\"22-04-21-lyrics-pickle\")"
   ],
   "metadata": {
    "collapsed": false,
    "pycharm": {
     "name": "#%%\n"
    }
   }
  },
  {
   "cell_type": "code",
   "execution_count": 12,
   "outputs": [
    {
     "ename": "InterfaceError",
     "evalue": "Error binding parameter 7 - probably unsupported type.",
     "output_type": "error",
     "traceback": [
      "\u001B[0;31m---------------------------------------------------------------------------\u001B[0m",
      "\u001B[0;31mInterfaceError\u001B[0m                            Traceback (most recent call last)",
      "Input \u001B[0;32mIn [12]\u001B[0m, in \u001B[0;36m<cell line: 1>\u001B[0;34m()\u001B[0m\n\u001B[0;32m----> 1\u001B[0m \u001B[43mdf\u001B[49m\u001B[38;5;241;43m.\u001B[39;49m\u001B[43mto_sql\u001B[49m\u001B[43m(\u001B[49m\u001B[38;5;124;43m\"\u001B[39;49m\u001B[38;5;124;43mtracks2\u001B[39;49m\u001B[38;5;124;43m\"\u001B[39;49m\u001B[43m,\u001B[49m\u001B[43m \u001B[49m\u001B[43mlyrics_db\u001B[49m\u001B[43m)\u001B[49m\n",
      "File \u001B[0;32m~/opt/anaconda3/envs/Country/lib/python3.10/site-packages/pandas/core/generic.py:2963\u001B[0m, in \u001B[0;36mNDFrame.to_sql\u001B[0;34m(self, name, con, schema, if_exists, index, index_label, chunksize, dtype, method)\u001B[0m\n\u001B[1;32m   2806\u001B[0m \u001B[38;5;124;03m\"\"\"\u001B[39;00m\n\u001B[1;32m   2807\u001B[0m \u001B[38;5;124;03mWrite records stored in a DataFrame to a SQL database.\u001B[39;00m\n\u001B[1;32m   2808\u001B[0m \n\u001B[0;32m   (...)\u001B[0m\n\u001B[1;32m   2959\u001B[0m \u001B[38;5;124;03m[(1,), (None,), (2,)]\u001B[39;00m\n\u001B[1;32m   2960\u001B[0m \u001B[38;5;124;03m\"\"\"\u001B[39;00m  \u001B[38;5;66;03m# noqa:E501\u001B[39;00m\n\u001B[1;32m   2961\u001B[0m \u001B[38;5;28;01mfrom\u001B[39;00m \u001B[38;5;21;01mpandas\u001B[39;00m\u001B[38;5;21;01m.\u001B[39;00m\u001B[38;5;21;01mio\u001B[39;00m \u001B[38;5;28;01mimport\u001B[39;00m sql\n\u001B[0;32m-> 2963\u001B[0m \u001B[38;5;28;01mreturn\u001B[39;00m \u001B[43msql\u001B[49m\u001B[38;5;241;43m.\u001B[39;49m\u001B[43mto_sql\u001B[49m\u001B[43m(\u001B[49m\n\u001B[1;32m   2964\u001B[0m \u001B[43m    \u001B[49m\u001B[38;5;28;43mself\u001B[39;49m\u001B[43m,\u001B[49m\n\u001B[1;32m   2965\u001B[0m \u001B[43m    \u001B[49m\u001B[43mname\u001B[49m\u001B[43m,\u001B[49m\n\u001B[1;32m   2966\u001B[0m \u001B[43m    \u001B[49m\u001B[43mcon\u001B[49m\u001B[43m,\u001B[49m\n\u001B[1;32m   2967\u001B[0m \u001B[43m    \u001B[49m\u001B[43mschema\u001B[49m\u001B[38;5;241;43m=\u001B[39;49m\u001B[43mschema\u001B[49m\u001B[43m,\u001B[49m\n\u001B[1;32m   2968\u001B[0m \u001B[43m    \u001B[49m\u001B[43mif_exists\u001B[49m\u001B[38;5;241;43m=\u001B[39;49m\u001B[43mif_exists\u001B[49m\u001B[43m,\u001B[49m\n\u001B[1;32m   2969\u001B[0m \u001B[43m    \u001B[49m\u001B[43mindex\u001B[49m\u001B[38;5;241;43m=\u001B[39;49m\u001B[43mindex\u001B[49m\u001B[43m,\u001B[49m\n\u001B[1;32m   2970\u001B[0m \u001B[43m    \u001B[49m\u001B[43mindex_label\u001B[49m\u001B[38;5;241;43m=\u001B[39;49m\u001B[43mindex_label\u001B[49m\u001B[43m,\u001B[49m\n\u001B[1;32m   2971\u001B[0m \u001B[43m    \u001B[49m\u001B[43mchunksize\u001B[49m\u001B[38;5;241;43m=\u001B[39;49m\u001B[43mchunksize\u001B[49m\u001B[43m,\u001B[49m\n\u001B[1;32m   2972\u001B[0m \u001B[43m    \u001B[49m\u001B[43mdtype\u001B[49m\u001B[38;5;241;43m=\u001B[39;49m\u001B[43mdtype\u001B[49m\u001B[43m,\u001B[49m\n\u001B[1;32m   2973\u001B[0m \u001B[43m    \u001B[49m\u001B[43mmethod\u001B[49m\u001B[38;5;241;43m=\u001B[39;49m\u001B[43mmethod\u001B[49m\u001B[43m,\u001B[49m\n\u001B[1;32m   2974\u001B[0m \u001B[43m\u001B[49m\u001B[43m)\u001B[49m\n",
      "File \u001B[0;32m~/opt/anaconda3/envs/Country/lib/python3.10/site-packages/pandas/io/sql.py:697\u001B[0m, in \u001B[0;36mto_sql\u001B[0;34m(frame, name, con, schema, if_exists, index, index_label, chunksize, dtype, method, engine, **engine_kwargs)\u001B[0m\n\u001B[1;32m    692\u001B[0m \u001B[38;5;28;01melif\u001B[39;00m \u001B[38;5;129;01mnot\u001B[39;00m \u001B[38;5;28misinstance\u001B[39m(frame, DataFrame):\n\u001B[1;32m    693\u001B[0m     \u001B[38;5;28;01mraise\u001B[39;00m \u001B[38;5;167;01mNotImplementedError\u001B[39;00m(\n\u001B[1;32m    694\u001B[0m         \u001B[38;5;124m\"\u001B[39m\u001B[38;5;124m'\u001B[39m\u001B[38;5;124mframe\u001B[39m\u001B[38;5;124m'\u001B[39m\u001B[38;5;124m argument should be either a Series or a DataFrame\u001B[39m\u001B[38;5;124m\"\u001B[39m\n\u001B[1;32m    695\u001B[0m     )\n\u001B[0;32m--> 697\u001B[0m \u001B[38;5;28;01mreturn\u001B[39;00m \u001B[43mpandas_sql\u001B[49m\u001B[38;5;241;43m.\u001B[39;49m\u001B[43mto_sql\u001B[49m\u001B[43m(\u001B[49m\n\u001B[1;32m    698\u001B[0m \u001B[43m    \u001B[49m\u001B[43mframe\u001B[49m\u001B[43m,\u001B[49m\n\u001B[1;32m    699\u001B[0m \u001B[43m    \u001B[49m\u001B[43mname\u001B[49m\u001B[43m,\u001B[49m\n\u001B[1;32m    700\u001B[0m \u001B[43m    \u001B[49m\u001B[43mif_exists\u001B[49m\u001B[38;5;241;43m=\u001B[39;49m\u001B[43mif_exists\u001B[49m\u001B[43m,\u001B[49m\n\u001B[1;32m    701\u001B[0m \u001B[43m    \u001B[49m\u001B[43mindex\u001B[49m\u001B[38;5;241;43m=\u001B[39;49m\u001B[43mindex\u001B[49m\u001B[43m,\u001B[49m\n\u001B[1;32m    702\u001B[0m \u001B[43m    \u001B[49m\u001B[43mindex_label\u001B[49m\u001B[38;5;241;43m=\u001B[39;49m\u001B[43mindex_label\u001B[49m\u001B[43m,\u001B[49m\n\u001B[1;32m    703\u001B[0m \u001B[43m    \u001B[49m\u001B[43mschema\u001B[49m\u001B[38;5;241;43m=\u001B[39;49m\u001B[43mschema\u001B[49m\u001B[43m,\u001B[49m\n\u001B[1;32m    704\u001B[0m \u001B[43m    \u001B[49m\u001B[43mchunksize\u001B[49m\u001B[38;5;241;43m=\u001B[39;49m\u001B[43mchunksize\u001B[49m\u001B[43m,\u001B[49m\n\u001B[1;32m    705\u001B[0m \u001B[43m    \u001B[49m\u001B[43mdtype\u001B[49m\u001B[38;5;241;43m=\u001B[39;49m\u001B[43mdtype\u001B[49m\u001B[43m,\u001B[49m\n\u001B[1;32m    706\u001B[0m \u001B[43m    \u001B[49m\u001B[43mmethod\u001B[49m\u001B[38;5;241;43m=\u001B[39;49m\u001B[43mmethod\u001B[49m\u001B[43m,\u001B[49m\n\u001B[1;32m    707\u001B[0m \u001B[43m    \u001B[49m\u001B[43mengine\u001B[49m\u001B[38;5;241;43m=\u001B[39;49m\u001B[43mengine\u001B[49m\u001B[43m,\u001B[49m\n\u001B[1;32m    708\u001B[0m \u001B[43m    \u001B[49m\u001B[38;5;241;43m*\u001B[39;49m\u001B[38;5;241;43m*\u001B[39;49m\u001B[43mengine_kwargs\u001B[49m\u001B[43m,\u001B[49m\n\u001B[1;32m    709\u001B[0m \u001B[43m\u001B[49m\u001B[43m)\u001B[49m\n",
      "File \u001B[0;32m~/opt/anaconda3/envs/Country/lib/python3.10/site-packages/pandas/io/sql.py:2190\u001B[0m, in \u001B[0;36mSQLiteDatabase.to_sql\u001B[0;34m(self, frame, name, if_exists, index, index_label, schema, chunksize, dtype, method, **kwargs)\u001B[0m\n\u001B[1;32m   2180\u001B[0m table \u001B[38;5;241m=\u001B[39m SQLiteTable(\n\u001B[1;32m   2181\u001B[0m     name,\n\u001B[1;32m   2182\u001B[0m     \u001B[38;5;28mself\u001B[39m,\n\u001B[0;32m   (...)\u001B[0m\n\u001B[1;32m   2187\u001B[0m     dtype\u001B[38;5;241m=\u001B[39mdtype,\n\u001B[1;32m   2188\u001B[0m )\n\u001B[1;32m   2189\u001B[0m table\u001B[38;5;241m.\u001B[39mcreate()\n\u001B[0;32m-> 2190\u001B[0m \u001B[38;5;28;01mreturn\u001B[39;00m \u001B[43mtable\u001B[49m\u001B[38;5;241;43m.\u001B[39;49m\u001B[43minsert\u001B[49m\u001B[43m(\u001B[49m\u001B[43mchunksize\u001B[49m\u001B[43m,\u001B[49m\u001B[43m \u001B[49m\u001B[43mmethod\u001B[49m\u001B[43m)\u001B[49m\n",
      "File \u001B[0;32m~/opt/anaconda3/envs/Country/lib/python3.10/site-packages/pandas/io/sql.py:950\u001B[0m, in \u001B[0;36mSQLTable.insert\u001B[0;34m(self, chunksize, method)\u001B[0m\n\u001B[1;32m    947\u001B[0m     \u001B[38;5;28;01mbreak\u001B[39;00m\n\u001B[1;32m    949\u001B[0m chunk_iter \u001B[38;5;241m=\u001B[39m \u001B[38;5;28mzip\u001B[39m(\u001B[38;5;241m*\u001B[39m(arr[start_i:end_i] \u001B[38;5;28;01mfor\u001B[39;00m arr \u001B[38;5;129;01min\u001B[39;00m data_list))\n\u001B[0;32m--> 950\u001B[0m num_inserted \u001B[38;5;241m=\u001B[39m \u001B[43mexec_insert\u001B[49m\u001B[43m(\u001B[49m\u001B[43mconn\u001B[49m\u001B[43m,\u001B[49m\u001B[43m \u001B[49m\u001B[43mkeys\u001B[49m\u001B[43m,\u001B[49m\u001B[43m \u001B[49m\u001B[43mchunk_iter\u001B[49m\u001B[43m)\u001B[49m\n\u001B[1;32m    951\u001B[0m \u001B[38;5;28;01mif\u001B[39;00m num_inserted \u001B[38;5;129;01mis\u001B[39;00m \u001B[38;5;28;01mNone\u001B[39;00m:\n\u001B[1;32m    952\u001B[0m     total_inserted \u001B[38;5;241m=\u001B[39m \u001B[38;5;28;01mNone\u001B[39;00m\n",
      "File \u001B[0;32m~/opt/anaconda3/envs/Country/lib/python3.10/site-packages/pandas/io/sql.py:1896\u001B[0m, in \u001B[0;36mSQLiteTable._execute_insert\u001B[0;34m(self, conn, keys, data_iter)\u001B[0m\n\u001B[1;32m   1894\u001B[0m \u001B[38;5;28;01mdef\u001B[39;00m \u001B[38;5;21m_execute_insert\u001B[39m(\u001B[38;5;28mself\u001B[39m, conn, keys, data_iter) \u001B[38;5;241m-\u001B[39m\u001B[38;5;241m>\u001B[39m \u001B[38;5;28mint\u001B[39m:\n\u001B[1;32m   1895\u001B[0m     data_list \u001B[38;5;241m=\u001B[39m \u001B[38;5;28mlist\u001B[39m(data_iter)\n\u001B[0;32m-> 1896\u001B[0m     \u001B[43mconn\u001B[49m\u001B[38;5;241;43m.\u001B[39;49m\u001B[43mexecutemany\u001B[49m\u001B[43m(\u001B[49m\u001B[38;5;28;43mself\u001B[39;49m\u001B[38;5;241;43m.\u001B[39;49m\u001B[43minsert_statement\u001B[49m\u001B[43m(\u001B[49m\u001B[43mnum_rows\u001B[49m\u001B[38;5;241;43m=\u001B[39;49m\u001B[38;5;241;43m1\u001B[39;49m\u001B[43m)\u001B[49m\u001B[43m,\u001B[49m\u001B[43m \u001B[49m\u001B[43mdata_list\u001B[49m\u001B[43m)\u001B[49m\n\u001B[1;32m   1897\u001B[0m     \u001B[38;5;28;01mreturn\u001B[39;00m conn\u001B[38;5;241m.\u001B[39mrowcount\n",
      "\u001B[0;31mInterfaceError\u001B[0m: Error binding parameter 7 - probably unsupported type."
     ]
    }
   ],
   "source": [
    "df.to_sql(\"tracks2\", lyrics_db)"
   ],
   "metadata": {
    "collapsed": false,
    "pycharm": {
     "name": "#%%\n"
    }
   }
  },
  {
   "cell_type": "code",
   "execution_count": 16,
   "outputs": [
    {
     "name": "stdout",
     "output_type": "stream",
     "text": [
      "<class 'pandas.core.frame.DataFrame'>\n",
      "RangeIndex: 7418 entries, 0 to 7417\n",
      "Data columns (total 8 columns):\n",
      " #   Column         Non-Null Count  Dtype \n",
      "---  ------         --------------  ----- \n",
      " 0   track_id       7418 non-null   int64 \n",
      " 1   year           7418 non-null   int64 \n",
      " 2   artist         7418 non-null   object\n",
      " 3   track          7418 non-null   object\n",
      " 4   rank           7418 non-null   int64 \n",
      " 5   link           7418 non-null   object\n",
      " 6   lyrics_object  7121 non-null   object\n",
      " 7   lyrics         7094 non-null   object\n",
      "dtypes: int64(3), object(5)\n",
      "memory usage: 463.8+ KB\n"
     ]
    }
   ],
   "source": [
    "df.info()"
   ],
   "metadata": {
    "collapsed": false,
    "pycharm": {
     "name": "#%%\n"
    }
   }
  },
  {
   "cell_type": "code",
   "execution_count": 15,
   "outputs": [
    {
     "data": {
      "text/plain": "  0%|          | 0/7418 [00:00<?, ?it/s]",
      "application/vnd.jupyter.widget-view+json": {
       "version_major": 2,
       "version_minor": 0,
       "model_id": "33e3023ae36a4fbab4a5872594ed4a7c"
      }
     },
     "metadata": {},
     "output_type": "display_data"
    }
   ],
   "source": [
    "df = df.rename({\"lyrics\": \"lyrics_object\"}, axis=1)\n",
    "df[\"lyrics\"] = df.progress_apply(\n",
    "    lambda row: row[\"lyrics_object\"].lyrics if row[\"lyrics_object\"] and not isinstance(row[\"lyrics_object\"],\n",
    "                                                                                       str) else None, axis=1)"
   ],
   "metadata": {
    "collapsed": false,
    "pycharm": {
     "name": "#%%\n"
    }
   }
  },
  {
   "cell_type": "code",
   "execution_count": 17,
   "outputs": [
    {
     "data": {
      "text/plain": "7418"
     },
     "execution_count": 17,
     "metadata": {},
     "output_type": "execute_result"
    }
   ],
   "source": [
    "df.drop(\"lyrics_object\", axis=1).to_sql(\"lyrics\", lyrics_db)"
   ],
   "metadata": {
    "collapsed": false,
    "pycharm": {
     "name": "#%%\n"
    }
   }
  }
 ],
 "metadata": {
  "kernelspec": {
   "display_name": "Python 3",
   "language": "python",
   "name": "python3"
  },
  "language_info": {
   "codemirror_mode": {
    "name": "ipython",
    "version": 2
   },
   "file_extension": ".py",
   "mimetype": "text/x-python",
   "name": "python",
   "nbconvert_exporter": "python",
   "pygments_lexer": "ipython2",
   "version": "2.7.6"
  }
 },
 "nbformat": 4,
 "nbformat_minor": 0
}
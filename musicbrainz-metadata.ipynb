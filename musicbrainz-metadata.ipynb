{
 "cells": [
  {
   "cell_type": "code",
   "execution_count": 187,
   "metadata": {
    "collapsed": true,
    "pycharm": {
     "name": "#%%\n"
    }
   },
   "outputs": [],
   "source": [
    "import musicbrainzngs\n",
    "from musicbrainzngs import WebServiceError\n",
    "\n",
    "musicbrainzngs.set_useragent(\"Nouserentered Song Analysis Project\", \"0.1.0\", contact=\"matthew.shu@yale.edu\"\n",
    "                             )"
   ]
  },
  {
   "cell_type": "code",
   "execution_count": 188,
   "outputs": [],
   "source": [
    "from difflib import SequenceMatcher\n",
    "\n",
    "# Modified from: https://stackoverflow.com/a/17388505\n",
    "def match(orig_name, found_name):\n",
    "    return SequenceMatcher(None, orig_name, found_name).ratio() > .7"
   ],
   "metadata": {
    "collapsed": false,
    "pycharm": {
     "name": "#%%\n"
    }
   }
  },
  {
   "cell_type": "code",
   "execution_count": 189,
   "outputs": [],
   "source": [
    "def search_artist(artist_id: int, name: str):\n",
    "    try:\n",
    "        result = musicbrainzngs.search_artists(name)\n",
    "    except WebServiceError as exc:\n",
    "        print(\"Something went wrong with the request: %s\" % exc)\n",
    "    else:\n",
    "        artist = result[\"artist-list\"]\n",
    "        if len(artist) != 0 and match(artist[0][\"name\"], name):\n",
    "            # Currently just takes the top artist, isn't always great if there are multiple artists!\n",
    "            top_artist = artist[0]\n",
    "            top_artist[\"artist_id\"] = artist_id\n",
    "            return top_artist\n",
    "        else:\n",
    "            return {\"name\": name, \"artist_id\": artist_id}\n",
    "def search_artist_series(artist_id: int, name: str):\n",
    "    artist_data = search_artist(artist_id, name)\n",
    "    if artist_data:\n",
    "        return pd.json_normalize(artist_data).iloc[0]\n",
    "    else:\n",
    "        return"
   ],
   "metadata": {
    "collapsed": false,
    "pycharm": {
     "name": "#%%\n"
    }
   }
  },
  {
   "cell_type": "markdown",
   "source": [
    "# Load Data"
   ],
   "metadata": {
    "collapsed": false,
    "pycharm": {
     "name": "#%% md\n"
    }
   }
  },
  {
   "cell_type": "code",
   "execution_count": 190,
   "outputs": [
    {
     "name": "stdout",
     "output_type": "stream",
     "text": [
      "The dotenv extension is already loaded. To reload it, use:\n",
      "  %reload_ext dotenv\n"
     ]
    }
   ],
   "source": [
    "%load_ext dotenv\n",
    "%dotenv\n",
    "\n",
    "import os\n",
    "import sqlite3\n",
    "import pandas as pd"
   ],
   "metadata": {
    "collapsed": false,
    "pycharm": {
     "name": "#%%\n"
    }
   }
  },
  {
   "cell_type": "code",
   "execution_count": 191,
   "outputs": [
    {
     "name": "stdout",
     "output_type": "stream",
     "text": [
      "   index  track_id  year              artist  \\\n",
      "0      0         0  1944           Red Foley   \n",
      "1      1         1  1944  The King Cole Trio   \n",
      "2      2         2  1944        Louis Jordan   \n",
      "3      3         3  1944          Tex Ritter   \n",
      "4      4         4  1944        Louis Jordan   \n",
      "\n",
      "                                  track  rank  \\\n",
      "0                    Smoke On The Water     1   \n",
      "1           Straighten Up And Fly Right     2   \n",
      "2  Is You Is or Is You Ain't (Ma' Baby)     3   \n",
      "3           I'm Wastin' My Tears on You     4   \n",
      "4                          Ration Blues     5   \n",
      "\n",
      "                                                link  \\\n",
      "0  /charts/country/video/1944/red-foley-smoke-on-...   \n",
      "1  /charts/country/video/1944/the-king-cole-trio-...   \n",
      "2  /charts/country/video/1944/louis-jordan-is-you...   \n",
      "3  /charts/country/video/1944/tex-ritter-im-wasti...   \n",
      "4  /charts/country/video/1944/louis-jordan-ration...   \n",
      "\n",
      "                                              lyrics  \n",
      "0  Smoke On The Water LyricsThere will be a sad d...  \n",
      "1  Straighten Up and Fly Right LyricsA buzzard to...  \n",
      "2  Is You Is Or Is You Ain’t (ma Baby) LyricsBing...  \n",
      "3  List of Number One Country Songs Lyrics1944\\nB...  \n",
      "4  Ration Blues LyricsBaby, baby, baby\\nWhat's wr...  \n"
     ]
    }
   ],
   "source": [
    "SQL_FILEPATH = os.getenv(\"PLAYBACK_FILE\")\n",
    "lyrics_db = sqlite3.connect(SQL_FILEPATH)\n",
    "\n",
    "df = pd.read_sql_query(\"SELECT * FROM lyrics\", lyrics_db)\n",
    "print(df.head())"
   ],
   "metadata": {
    "collapsed": false,
    "pycharm": {
     "name": "#%%\n"
    }
   }
  },
  {
   "cell_type": "markdown",
   "source": [
    "# Search Musicbrainz"
   ],
   "metadata": {
    "collapsed": false
   }
  },
  {
   "cell_type": "code",
   "execution_count": 192,
   "outputs": [
    {
     "data": {
      "text/plain": "   index  track_id  year              artist  \\\n0      0         0  1944           Red Foley   \n1      1         1  1944  The King Cole Trio   \n2      2         2  1944        Louis Jordan   \n3      3         3  1944          Tex Ritter   \n4      4         4  1944        Louis Jordan   \n\n                                  track  rank  \\\n0                    Smoke On The Water     1   \n1           Straighten Up And Fly Right     2   \n2  Is You Is or Is You Ain't (Ma' Baby)     3   \n3           I'm Wastin' My Tears on You     4   \n4                          Ration Blues     5   \n\n                                                link  \\\n0  /charts/country/video/1944/red-foley-smoke-on-...   \n1  /charts/country/video/1944/the-king-cole-trio-...   \n2  /charts/country/video/1944/louis-jordan-is-you...   \n3  /charts/country/video/1944/tex-ritter-im-wasti...   \n4  /charts/country/video/1944/louis-jordan-ration...   \n\n                                              lyrics  \n0  Smoke On The Water LyricsThere will be a sad d...  \n1  Straighten Up and Fly Right LyricsA buzzard to...  \n2  Is You Is Or Is You Ain’t (ma Baby) LyricsBing...  \n3  List of Number One Country Songs Lyrics1944\\nB...  \n4  Ration Blues LyricsBaby, baby, baby\\nWhat's wr...  ",
      "text/html": "<div>\n<style scoped>\n    .dataframe tbody tr th:only-of-type {\n        vertical-align: middle;\n    }\n\n    .dataframe tbody tr th {\n        vertical-align: top;\n    }\n\n    .dataframe thead th {\n        text-align: right;\n    }\n</style>\n<table border=\"1\" class=\"dataframe\">\n  <thead>\n    <tr style=\"text-align: right;\">\n      <th></th>\n      <th>index</th>\n      <th>track_id</th>\n      <th>year</th>\n      <th>artist</th>\n      <th>track</th>\n      <th>rank</th>\n      <th>link</th>\n      <th>lyrics</th>\n    </tr>\n  </thead>\n  <tbody>\n    <tr>\n      <th>0</th>\n      <td>0</td>\n      <td>0</td>\n      <td>1944</td>\n      <td>Red Foley</td>\n      <td>Smoke On The Water</td>\n      <td>1</td>\n      <td>/charts/country/video/1944/red-foley-smoke-on-...</td>\n      <td>Smoke On The Water LyricsThere will be a sad d...</td>\n    </tr>\n    <tr>\n      <th>1</th>\n      <td>1</td>\n      <td>1</td>\n      <td>1944</td>\n      <td>The King Cole Trio</td>\n      <td>Straighten Up And Fly Right</td>\n      <td>2</td>\n      <td>/charts/country/video/1944/the-king-cole-trio-...</td>\n      <td>Straighten Up and Fly Right LyricsA buzzard to...</td>\n    </tr>\n    <tr>\n      <th>2</th>\n      <td>2</td>\n      <td>2</td>\n      <td>1944</td>\n      <td>Louis Jordan</td>\n      <td>Is You Is or Is You Ain't (Ma' Baby)</td>\n      <td>3</td>\n      <td>/charts/country/video/1944/louis-jordan-is-you...</td>\n      <td>Is You Is Or Is You Ain’t (ma Baby) LyricsBing...</td>\n    </tr>\n    <tr>\n      <th>3</th>\n      <td>3</td>\n      <td>3</td>\n      <td>1944</td>\n      <td>Tex Ritter</td>\n      <td>I'm Wastin' My Tears on You</td>\n      <td>4</td>\n      <td>/charts/country/video/1944/tex-ritter-im-wasti...</td>\n      <td>List of Number One Country Songs Lyrics1944\\nB...</td>\n    </tr>\n    <tr>\n      <th>4</th>\n      <td>4</td>\n      <td>4</td>\n      <td>1944</td>\n      <td>Louis Jordan</td>\n      <td>Ration Blues</td>\n      <td>5</td>\n      <td>/charts/country/video/1944/louis-jordan-ration...</td>\n      <td>Ration Blues LyricsBaby, baby, baby\\nWhat's wr...</td>\n    </tr>\n  </tbody>\n</table>\n</div>"
     },
     "execution_count": 192,
     "metadata": {},
     "output_type": "execute_result"
    }
   ],
   "source": [
    "small_df = df.head()\n",
    "small_df"
   ],
   "metadata": {
    "collapsed": false,
    "pycharm": {
     "name": "#%%\n"
    }
   }
  },
  {
   "cell_type": "markdown",
   "source": [],
   "metadata": {
    "collapsed": false
   }
  },
  {
   "cell_type": "code",
   "execution_count": 193,
   "outputs": [],
   "source": [
    "# https://datascience.stackexchange.com/a/89267\n",
    "df['artist_id'] = pd.factorize(df['artist'])[0] + 1 # just don't want to start at 0"
   ],
   "metadata": {
    "collapsed": false,
    "pycharm": {
     "name": "#%%\n"
    }
   }
  },
  {
   "cell_type": "code",
   "execution_count": 194,
   "outputs": [
    {
     "name": "stdout",
     "output_type": "stream",
     "text": [
      "1177\n"
     ]
    }
   ],
   "source": [
    "artists = df.artist.unique()\n",
    "artists_head = artists\n",
    "print(artists_head.size)"
   ],
   "metadata": {
    "collapsed": false,
    "pycharm": {
     "name": "#%%\n"
    }
   }
  },
  {
   "cell_type": "code",
   "execution_count": 195,
   "outputs": [],
   "source": [
    "df_unique_artists = df.groupby('artist', as_index=False).first()"
   ],
   "metadata": {
    "collapsed": false,
    "pycharm": {
     "name": "#%%\n"
    }
   }
  },
  {
   "cell_type": "code",
   "execution_count": 197,
   "outputs": [
    {
     "data": {
      "text/plain": "  0%|          | 0/1177 [00:00<?, ?it/s]",
      "application/vnd.jupyter.widget-view+json": {
       "version_major": 2,
       "version_minor": 0,
       "model_id": "80e63a77e3e9471bb8636db52b4d71b9"
      }
     },
     "metadata": {},
     "output_type": "display_data"
    }
   ],
   "source": [
    "artists_df = df_unique_artists.progress_apply(lambda row: search_artist_series(row[\"artist_id\"], row[\"artist\"]), axis=1)"
   ],
   "metadata": {
    "collapsed": false,
    "pycharm": {
     "name": "#%%\n"
    }
   }
  },
  {
   "cell_type": "code",
   "execution_count": 198,
   "outputs": [],
   "source": [
    "artists_df.to_pickle(\"22-04-27-artists-pickle\")"
   ],
   "metadata": {
    "collapsed": false,
    "pycharm": {
     "name": "#%%\n"
    }
   }
  },
  {
   "cell_type": "code",
   "execution_count": 199,
   "outputs": [],
   "source": [
    "artists_df.columns = [i.replace('-', '_') for i in artists_df.columns]"
   ],
   "metadata": {
    "collapsed": false,
    "pycharm": {
     "name": "#%%\n"
    }
   }
  },
  {
   "cell_type": "code",
   "execution_count": 200,
   "outputs": [
    {
     "data": {
      "text/plain": "1177"
     },
     "execution_count": 200,
     "metadata": {},
     "output_type": "execute_result"
    }
   ],
   "source": [],
   "metadata": {
    "collapsed": false,
    "pycharm": {
     "name": "#%%\n"
    }
   }
  },
  {
   "cell_type": "code",
   "execution_count": 201,
   "outputs": [],
   "source": [
    "df['artist_appearances'] = df.groupby('artist_id')['artist_id'].transform('count')"
   ],
   "metadata": {
    "collapsed": false,
    "pycharm": {
     "name": "#%%\n"
    }
   }
  },
  {
   "cell_type": "code",
   "execution_count": 202,
   "outputs": [
    {
     "data": {
      "text/plain": "                                             alias_list  \\\n0                                                   NaN   \n1                                                   NaN   \n2                                                   NaN   \n3                                                   NaN   \n4     [{'sort-name': 'Tippen, Aaron', 'alias': 'Aaro...   \n...                                                 ...   \n1172                                                NaN   \n1173                                                NaN   \n1174                                                NaN   \n1175  [{'sort-name': 'Grishaw, William Edward', 'typ...   \n1176  [{'sort-name': 'Manners, Leo', 'type': 'Artist...   \n\n                                   area.id area.life_span.ended  \\\n0                                      NaN                  NaN   \n1     489ce91b-6658-3307-9877-795b68554c98                false   \n2     489ce91b-6658-3307-9877-795b68554c98                false   \n3     71bbafaa-e825-3e15-8ca9-017dcad1748b                false   \n4     489ce91b-6658-3307-9877-795b68554c98                false   \n...                                    ...                  ...   \n1172  489ce91b-6658-3307-9877-795b68554c98                false   \n1173  489ce91b-6658-3307-9877-795b68554c98                false   \n1174                                   NaN                  NaN   \n1175  489ce91b-6658-3307-9877-795b68554c98                false   \n1176  489ce91b-6658-3307-9877-795b68554c98                false   \n\n          area.name area.sort_name area.type  artist_id  \\\n0               NaN            NaN       NaN          7   \n1     United States  United States   Country       1030   \n2     United States  United States   Country       1175   \n3            Canada         Canada   Country        836   \n4     United States  United States   Country        712   \n...             ...            ...       ...        ...   \n1172  United States  United States   Country        799   \n1173  United States  United States   Country        917   \n1174            NaN            NaN       NaN       1046   \n1175  United States  United States   Country        111   \n1176  United States  United States   Country         48   \n\n                             begin_area.id begin_area.life_span.ended  \\\n0                                      NaN                        NaN   \n1     e68879f9-bd95-41ff-96ba-c082ff37cc74                      false   \n2     12c5fcaf-1f18-4907-a173-39ff71ce56bd                      false   \n3                                      NaN                        NaN   \n4     7f7aa0ff-b9ae-405d-8435-9dfdec421a47                      false   \n...                                    ...                        ...   \n1172                                   NaN                        NaN   \n1173  8259f19d-6597-4b57-9e51-7709e1a5f2ed                      false   \n1174                                   NaN                        NaN   \n1175                                   NaN                        NaN   \n1176  83f22bb6-4631-443c-bace-9fae8540362a                      false   \n\n     begin_area.name  ...                                 mb_id  \\\n0                NaN  ...                                   NaN   \n1          Nashville  ...  ad3a1b29-ac6e-44c0-bd96-8b561bf5dcd7   \n2            Rutland  ...  86034d1d-f66e-426d-ad52-ca5511a9b428   \n3                NaN  ...  17dff070-e6e0-471c-9a77-057b5a20f5e3   \n4          Pensacola  ...  59e22818-9da1-42be-bdd6-b1124b4a67b9   \n...              ...  ...                                   ...   \n1172             NaN  ...  0eb32acc-0b29-4aed-b5ba-25e5bc961a46   \n1173       Dahlonega  ...  507226f4-0842-4f43-950e-81a7017230ec   \n1174             NaN  ...                                   NaN   \n1175             NaN  ...  f54c2737-eff7-4f48-a8ce-b8e1a58c96b0   \n1176   San Francisco  ...  04d9c4b8-6fc7-40ff-9f68-db52a109aeb3   \n\n           ipi_list                             isni_list life_span.begin  \\\n0               NaN                                   NaN             NaN   \n1               NaN                                   NaN            2010   \n2     [00345569338]                    [0000000100395995]      1972-04-13   \n3               NaN                                   NaN      1977-11-17   \n4     [00131984372]                    [0000000109686561]      1958-07-03   \n...             ...                                   ...             ...   \n1172            NaN                                   NaN            1986   \n1173            NaN                                   NaN            2000   \n1174            NaN                                   NaN             NaN   \n1175            NaN                                   NaN      1915-06-23   \n1176  [00019371291]  [000000011679099X, 0000000108622849]      1911-10-10   \n\n     life_span.end life_span.ended               name           sort_name  \\\n0              NaN             NaN         5 Red Caps                 NaN   \n1              NaN           false  A Thousand Horses  Thousand Horses, A   \n2              NaN           false        Aaron Lewis        Lewis, Aaron   \n3              NaN           false        Aaron Lines        Lines, Aaron   \n4              NaN           false       Aaron Tippin       Tippin, Aaron   \n...            ...             ...                ...                 ...   \n1172          2002            true        Yankee Grey         Yankee Grey   \n1173           NaN           false     Zac Brown Band    Brown, Zac, Band   \n1174           NaN             NaN      Zach Seabaugh                 NaN   \n1175    1978-01-10            true         Zeb Turner         Turner, Zeb   \n1176    2000-10-14            true       Zeke Manners       Manners, Zeke   \n\n                                               tag_list    type  \n0                                                   NaN     NaN  \n1                   [{'count': '1', 'name': 'country'}]   Group  \n2     [{'count': '1', 'name': 'alternative metal'}, ...  Person  \n3                                                   NaN  Person  \n4                   [{'count': '2', 'name': 'country'}]  Person  \n...                                                 ...     ...  \n1172                                                NaN   Group  \n1173  [{'count': '1', 'name': 'country rock'}, {'cou...   Group  \n1174                                                NaN     NaN  \n1175                                                NaN  Person  \n1176                                                NaN  Person  \n\n[1177 rows x 31 columns]",
      "text/html": "<div>\n<style scoped>\n    .dataframe tbody tr th:only-of-type {\n        vertical-align: middle;\n    }\n\n    .dataframe tbody tr th {\n        vertical-align: top;\n    }\n\n    .dataframe thead th {\n        text-align: right;\n    }\n</style>\n<table border=\"1\" class=\"dataframe\">\n  <thead>\n    <tr style=\"text-align: right;\">\n      <th></th>\n      <th>alias_list</th>\n      <th>area.id</th>\n      <th>area.life_span.ended</th>\n      <th>area.name</th>\n      <th>area.sort_name</th>\n      <th>area.type</th>\n      <th>artist_id</th>\n      <th>begin_area.id</th>\n      <th>begin_area.life_span.ended</th>\n      <th>begin_area.name</th>\n      <th>...</th>\n      <th>mb_id</th>\n      <th>ipi_list</th>\n      <th>isni_list</th>\n      <th>life_span.begin</th>\n      <th>life_span.end</th>\n      <th>life_span.ended</th>\n      <th>name</th>\n      <th>sort_name</th>\n      <th>tag_list</th>\n      <th>type</th>\n    </tr>\n  </thead>\n  <tbody>\n    <tr>\n      <th>0</th>\n      <td>NaN</td>\n      <td>NaN</td>\n      <td>NaN</td>\n      <td>NaN</td>\n      <td>NaN</td>\n      <td>NaN</td>\n      <td>7</td>\n      <td>NaN</td>\n      <td>NaN</td>\n      <td>NaN</td>\n      <td>...</td>\n      <td>NaN</td>\n      <td>NaN</td>\n      <td>NaN</td>\n      <td>NaN</td>\n      <td>NaN</td>\n      <td>NaN</td>\n      <td>5 Red Caps</td>\n      <td>NaN</td>\n      <td>NaN</td>\n      <td>NaN</td>\n    </tr>\n    <tr>\n      <th>1</th>\n      <td>NaN</td>\n      <td>489ce91b-6658-3307-9877-795b68554c98</td>\n      <td>false</td>\n      <td>United States</td>\n      <td>United States</td>\n      <td>Country</td>\n      <td>1030</td>\n      <td>e68879f9-bd95-41ff-96ba-c082ff37cc74</td>\n      <td>false</td>\n      <td>Nashville</td>\n      <td>...</td>\n      <td>ad3a1b29-ac6e-44c0-bd96-8b561bf5dcd7</td>\n      <td>NaN</td>\n      <td>NaN</td>\n      <td>2010</td>\n      <td>NaN</td>\n      <td>false</td>\n      <td>A Thousand Horses</td>\n      <td>Thousand Horses, A</td>\n      <td>[{'count': '1', 'name': 'country'}]</td>\n      <td>Group</td>\n    </tr>\n    <tr>\n      <th>2</th>\n      <td>NaN</td>\n      <td>489ce91b-6658-3307-9877-795b68554c98</td>\n      <td>false</td>\n      <td>United States</td>\n      <td>United States</td>\n      <td>Country</td>\n      <td>1175</td>\n      <td>12c5fcaf-1f18-4907-a173-39ff71ce56bd</td>\n      <td>false</td>\n      <td>Rutland</td>\n      <td>...</td>\n      <td>86034d1d-f66e-426d-ad52-ca5511a9b428</td>\n      <td>[00345569338]</td>\n      <td>[0000000100395995]</td>\n      <td>1972-04-13</td>\n      <td>NaN</td>\n      <td>false</td>\n      <td>Aaron Lewis</td>\n      <td>Lewis, Aaron</td>\n      <td>[{'count': '1', 'name': 'alternative metal'}, ...</td>\n      <td>Person</td>\n    </tr>\n    <tr>\n      <th>3</th>\n      <td>NaN</td>\n      <td>71bbafaa-e825-3e15-8ca9-017dcad1748b</td>\n      <td>false</td>\n      <td>Canada</td>\n      <td>Canada</td>\n      <td>Country</td>\n      <td>836</td>\n      <td>NaN</td>\n      <td>NaN</td>\n      <td>NaN</td>\n      <td>...</td>\n      <td>17dff070-e6e0-471c-9a77-057b5a20f5e3</td>\n      <td>NaN</td>\n      <td>NaN</td>\n      <td>1977-11-17</td>\n      <td>NaN</td>\n      <td>false</td>\n      <td>Aaron Lines</td>\n      <td>Lines, Aaron</td>\n      <td>NaN</td>\n      <td>Person</td>\n    </tr>\n    <tr>\n      <th>4</th>\n      <td>[{'sort-name': 'Tippen, Aaron', 'alias': 'Aaro...</td>\n      <td>489ce91b-6658-3307-9877-795b68554c98</td>\n      <td>false</td>\n      <td>United States</td>\n      <td>United States</td>\n      <td>Country</td>\n      <td>712</td>\n      <td>7f7aa0ff-b9ae-405d-8435-9dfdec421a47</td>\n      <td>false</td>\n      <td>Pensacola</td>\n      <td>...</td>\n      <td>59e22818-9da1-42be-bdd6-b1124b4a67b9</td>\n      <td>[00131984372]</td>\n      <td>[0000000109686561]</td>\n      <td>1958-07-03</td>\n      <td>NaN</td>\n      <td>false</td>\n      <td>Aaron Tippin</td>\n      <td>Tippin, Aaron</td>\n      <td>[{'count': '2', 'name': 'country'}]</td>\n      <td>Person</td>\n    </tr>\n    <tr>\n      <th>...</th>\n      <td>...</td>\n      <td>...</td>\n      <td>...</td>\n      <td>...</td>\n      <td>...</td>\n      <td>...</td>\n      <td>...</td>\n      <td>...</td>\n      <td>...</td>\n      <td>...</td>\n      <td>...</td>\n      <td>...</td>\n      <td>...</td>\n      <td>...</td>\n      <td>...</td>\n      <td>...</td>\n      <td>...</td>\n      <td>...</td>\n      <td>...</td>\n      <td>...</td>\n      <td>...</td>\n    </tr>\n    <tr>\n      <th>1172</th>\n      <td>NaN</td>\n      <td>489ce91b-6658-3307-9877-795b68554c98</td>\n      <td>false</td>\n      <td>United States</td>\n      <td>United States</td>\n      <td>Country</td>\n      <td>799</td>\n      <td>NaN</td>\n      <td>NaN</td>\n      <td>NaN</td>\n      <td>...</td>\n      <td>0eb32acc-0b29-4aed-b5ba-25e5bc961a46</td>\n      <td>NaN</td>\n      <td>NaN</td>\n      <td>1986</td>\n      <td>2002</td>\n      <td>true</td>\n      <td>Yankee Grey</td>\n      <td>Yankee Grey</td>\n      <td>NaN</td>\n      <td>Group</td>\n    </tr>\n    <tr>\n      <th>1173</th>\n      <td>NaN</td>\n      <td>489ce91b-6658-3307-9877-795b68554c98</td>\n      <td>false</td>\n      <td>United States</td>\n      <td>United States</td>\n      <td>Country</td>\n      <td>917</td>\n      <td>8259f19d-6597-4b57-9e51-7709e1a5f2ed</td>\n      <td>false</td>\n      <td>Dahlonega</td>\n      <td>...</td>\n      <td>507226f4-0842-4f43-950e-81a7017230ec</td>\n      <td>NaN</td>\n      <td>NaN</td>\n      <td>2000</td>\n      <td>NaN</td>\n      <td>false</td>\n      <td>Zac Brown Band</td>\n      <td>Brown, Zac, Band</td>\n      <td>[{'count': '1', 'name': 'country rock'}, {'cou...</td>\n      <td>Group</td>\n    </tr>\n    <tr>\n      <th>1174</th>\n      <td>NaN</td>\n      <td>NaN</td>\n      <td>NaN</td>\n      <td>NaN</td>\n      <td>NaN</td>\n      <td>NaN</td>\n      <td>1046</td>\n      <td>NaN</td>\n      <td>NaN</td>\n      <td>NaN</td>\n      <td>...</td>\n      <td>NaN</td>\n      <td>NaN</td>\n      <td>NaN</td>\n      <td>NaN</td>\n      <td>NaN</td>\n      <td>NaN</td>\n      <td>Zach Seabaugh</td>\n      <td>NaN</td>\n      <td>NaN</td>\n      <td>NaN</td>\n    </tr>\n    <tr>\n      <th>1175</th>\n      <td>[{'sort-name': 'Grishaw, William Edward', 'typ...</td>\n      <td>489ce91b-6658-3307-9877-795b68554c98</td>\n      <td>false</td>\n      <td>United States</td>\n      <td>United States</td>\n      <td>Country</td>\n      <td>111</td>\n      <td>NaN</td>\n      <td>NaN</td>\n      <td>NaN</td>\n      <td>...</td>\n      <td>f54c2737-eff7-4f48-a8ce-b8e1a58c96b0</td>\n      <td>NaN</td>\n      <td>NaN</td>\n      <td>1915-06-23</td>\n      <td>1978-01-10</td>\n      <td>true</td>\n      <td>Zeb Turner</td>\n      <td>Turner, Zeb</td>\n      <td>NaN</td>\n      <td>Person</td>\n    </tr>\n    <tr>\n      <th>1176</th>\n      <td>[{'sort-name': 'Manners, Leo', 'type': 'Artist...</td>\n      <td>489ce91b-6658-3307-9877-795b68554c98</td>\n      <td>false</td>\n      <td>United States</td>\n      <td>United States</td>\n      <td>Country</td>\n      <td>48</td>\n      <td>83f22bb6-4631-443c-bace-9fae8540362a</td>\n      <td>false</td>\n      <td>San Francisco</td>\n      <td>...</td>\n      <td>04d9c4b8-6fc7-40ff-9f68-db52a109aeb3</td>\n      <td>[00019371291]</td>\n      <td>[000000011679099X, 0000000108622849]</td>\n      <td>1911-10-10</td>\n      <td>2000-10-14</td>\n      <td>true</td>\n      <td>Zeke Manners</td>\n      <td>Manners, Zeke</td>\n      <td>NaN</td>\n      <td>Person</td>\n    </tr>\n  </tbody>\n</table>\n<p>1177 rows × 31 columns</p>\n</div>"
     },
     "execution_count": 202,
     "metadata": {},
     "output_type": "execute_result"
    }
   ],
   "source": [
    "artists_df.rename(columns={\"id\": \"mb_id\"})"
   ],
   "metadata": {
    "collapsed": false,
    "pycharm": {
     "name": "#%%\n"
    }
   }
  },
  {
   "cell_type": "code",
   "execution_count": 204,
   "outputs": [
    {
     "data": {
      "text/plain": "7418"
     },
     "execution_count": 204,
     "metadata": {},
     "output_type": "execute_result"
    }
   ],
   "source": [
    "artists_df.applymap(str).to_sql(\"artists\", lyrics_db, if_exists=\"replace\")\n",
    "df.to_sql(\"lyrics\", lyrics_db, if_exists=\"replace\")"
   ],
   "metadata": {
    "collapsed": false,
    "pycharm": {
     "name": "#%%\n"
    }
   }
  },
  {
   "cell_type": "code",
   "execution_count": null,
   "outputs": [],
   "source": [],
   "metadata": {
    "collapsed": false,
    "pycharm": {
     "name": "#%%\n"
    }
   }
  },
  {
   "cell_type": "code",
   "execution_count": null,
   "outputs": [],
   "source": [],
   "metadata": {
    "collapsed": false,
    "pycharm": {
     "name": "#%%\n"
    }
   }
  },
  {
   "cell_type": "code",
   "execution_count": null,
   "outputs": [],
   "source": [],
   "metadata": {
    "collapsed": false,
    "pycharm": {
     "name": "#%%\n"
    }
   }
  },
  {
   "cell_type": "code",
   "execution_count": null,
   "outputs": [],
   "source": [],
   "metadata": {
    "collapsed": false,
    "pycharm": {
     "name": "#%%\n"
    }
   }
  },
  {
   "cell_type": "code",
   "execution_count": null,
   "outputs": [],
   "source": [],
   "metadata": {
    "collapsed": false,
    "pycharm": {
     "name": "#%%\n"
    }
   }
  },
  {
   "cell_type": "code",
   "execution_count": null,
   "outputs": [],
   "source": [],
   "metadata": {
    "collapsed": false,
    "pycharm": {
     "name": "#%%\n"
    }
   }
  },
  {
   "cell_type": "code",
   "execution_count": null,
   "outputs": [],
   "source": [],
   "metadata": {
    "collapsed": false,
    "pycharm": {
     "name": "#%%\n"
    }
   }
  },
  {
   "cell_type": "code",
   "execution_count": null,
   "outputs": [],
   "source": [],
   "metadata": {
    "collapsed": false,
    "pycharm": {
     "name": "#%%\n"
    }
   }
  },
  {
   "cell_type": "code",
   "execution_count": null,
   "outputs": [],
   "source": [],
   "metadata": {
    "collapsed": false,
    "pycharm": {
     "name": "#%%\n"
    }
   }
  },
  {
   "cell_type": "code",
   "execution_count": null,
   "outputs": [],
   "source": [],
   "metadata": {
    "collapsed": false,
    "pycharm": {
     "name": "#%%\n"
    }
   }
  },
  {
   "cell_type": "code",
   "execution_count": null,
   "outputs": [],
   "source": [],
   "metadata": {
    "collapsed": false,
    "pycharm": {
     "name": "#%%\n"
    }
   }
  },
  {
   "cell_type": "code",
   "execution_count": null,
   "outputs": [],
   "source": [],
   "metadata": {
    "collapsed": false,
    "pycharm": {
     "name": "#%%\n"
    }
   }
  },
  {
   "cell_type": "code",
   "execution_count": null,
   "outputs": [],
   "source": [],
   "metadata": {
    "collapsed": false,
    "pycharm": {
     "name": "#%%\n"
    }
   }
  }
 ],
 "metadata": {
  "kernelspec": {
   "display_name": "Python 3",
   "language": "python",
   "name": "python3"
  },
  "language_info": {
   "codemirror_mode": {
    "name": "ipython",
    "version": 2
   },
   "file_extension": ".py",
   "mimetype": "text/x-python",
   "name": "python",
   "nbconvert_exporter": "python",
   "pygments_lexer": "ipython2",
   "version": "2.7.6"
  }
 },
 "nbformat": 4,
 "nbformat_minor": 0
}
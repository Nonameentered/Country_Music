{
 "cells": [
  {
   "cell_type": "code",
   "execution_count": 2,
   "metadata": {},
   "outputs": [],
   "source": [
    "import sqlite3\n",
    "import pandas as pd"
   ]
  },
  {
   "cell_type": "code",
   "execution_count": 3,
   "metadata": {},
   "outputs": [],
   "source": [
    "lyrics_db = sqlite3.connect('files/mxm_dataset.db')\n",
    "track_db = sqlite3.connect('files/track_metadata.db')\n",
    "compiled_db = sqlite3.connect('files/country_song_project.db')"
   ]
  },
  {
   "cell_type": "code",
   "execution_count": 4,
   "metadata": {},
   "outputs": [],
   "source": [
    "df = pd.read_csv('files/msd_tagtraum_cd2c.cls', sep=\"\\t\", header=None, skiprows=7)\n",
    "df.columns = [\"Track ID\", \"Genre\"]\n",
    "df_filtered = df[df[\"Genre\"] == \"Country\"]"
   ]
  },
  {
   "cell_type": "code",
   "execution_count": 5,
   "metadata": {},
   "outputs": [
    {
     "name": "stdout",
     "output_type": "stream",
     "text": [
      "(8983, 14)\n"
     ]
    }
   ],
   "source": [
    "df_tracks = pd.read_sql_query(\"SELECT * FROM songs\", track_db)\n",
    "df_tracks_country = df_tracks[df_tracks[\"track_id\"].isin(df_filtered[\"Track ID\"])]\n",
    "print(df_tracks_country.shape)\n",
    "#"
   ]
  },
  {
   "cell_type": "code",
   "execution_count": 6,
   "metadata": {},
   "outputs": [
    {
     "name": "stderr",
     "output_type": "stream",
     "text": [
      "/var/folders/xj/0wct6fs17lj8c0qthjk1ryb80000gn/T/ipykernel_17866/155918585.py:1: ParserWarning: Falling back to the 'python' engine because the 'c' engine does not support regex separators (separators > 1 char and different from '\\s+' are interpreted as regex); you can avoid this warning by specifying engine='python'.\n",
      "  df_artist_location = pd.read_csv('files/artist_location.txt', sep=\"<SEP>\", header=None)\n"
     ]
    },
    {
     "data": {
      "text/plain": "             track_id                                 title  \\\n0  TRMMWEZ128F1455EAC              Foggy Mountain Breakdown   \n1  TRWTUUQ128F428237B                      Building On Sand   \n2  TRHYKTA128F4282354  Be Ready For Tomorrow May Never Come   \n3  TRRKXZC128F428236C         On The Rock Where Moses Stood   \n4  TRICUZR12903CE6A45                        Baby Blue Eyes   \n\n              song_id                          release           artist_id  \\\n0  SODSOYL12A6D4F5B39  The Complete Mercury Recordings  ARCUKQ11187B9A9AC9   \n1  SOHGRTD12A8C1390E3            Foggy Mountain Gospel  ARCUKQ11187B9A9AC9   \n2  SOGVCPS12A58A7D6B5            Foggy Mountain Gospel  ARCUKQ11187B9A9AC9   \n3  SOJUHEN12A8C1390AC            Foggy Mountain Gospel  ARCUKQ11187B9A9AC9   \n4  SOZQNUK12AC3DF5694         Foggy Mountain Breakdown  ARCUKQ11187B9A9AC9   \n\n                            artist_mbid  \\\n0  a9468a9a-b5ea-43b8-85c7-d86542bd2537   \n1  a9468a9a-b5ea-43b8-85c7-d86542bd2537   \n2  a9468a9a-b5ea-43b8-85c7-d86542bd2537   \n3  a9468a9a-b5ea-43b8-85c7-d86542bd2537   \n4  a9468a9a-b5ea-43b8-85c7-d86542bd2537   \n\n                                         artist_name   duration  \\\n0  Lester Flatt / Earl Scruggs / The Foggy Mounta...  161.95873   \n1                          Lester Flatt;Earl Scruggs  151.79710   \n2                          Lester Flatt;Earl Scruggs  160.60036   \n3                          Lester Flatt;Earl Scruggs  146.49424   \n4                                  Flatt And Scruggs  179.80036   \n\n   artist_familiarity  artist_hotttnesss  year  track_7digitalid  shs_perf  \\\n0            0.491050           0.320367     0            227986        -1   \n1            0.583720           0.320367     0           3289083        -1   \n2            0.583719           0.320367     0           3289044        -1   \n3            0.583720           0.320367     0           3289068        -1   \n4            0.491050           0.320367     0           7603466        -1   \n\n   shs_work  X Coordinate  Y Coordinate                City  \n0         0      36.34253     -85.29014  Overton County, TN  \n1         0      36.34253     -85.29014  Overton County, TN  \n2         0      36.34253     -85.29014  Overton County, TN  \n3         0      36.34253     -85.29014  Overton County, TN  \n4         0      36.34253     -85.29014  Overton County, TN  ",
      "text/html": "<div>\n<style scoped>\n    .dataframe tbody tr th:only-of-type {\n        vertical-align: middle;\n    }\n\n    .dataframe tbody tr th {\n        vertical-align: top;\n    }\n\n    .dataframe thead th {\n        text-align: right;\n    }\n</style>\n<table border=\"1\" class=\"dataframe\">\n  <thead>\n    <tr style=\"text-align: right;\">\n      <th></th>\n      <th>track_id</th>\n      <th>title</th>\n      <th>song_id</th>\n      <th>release</th>\n      <th>artist_id</th>\n      <th>artist_mbid</th>\n      <th>artist_name</th>\n      <th>duration</th>\n      <th>artist_familiarity</th>\n      <th>artist_hotttnesss</th>\n      <th>year</th>\n      <th>track_7digitalid</th>\n      <th>shs_perf</th>\n      <th>shs_work</th>\n      <th>X Coordinate</th>\n      <th>Y Coordinate</th>\n      <th>City</th>\n    </tr>\n  </thead>\n  <tbody>\n    <tr>\n      <th>0</th>\n      <td>TRMMWEZ128F1455EAC</td>\n      <td>Foggy Mountain Breakdown</td>\n      <td>SODSOYL12A6D4F5B39</td>\n      <td>The Complete Mercury Recordings</td>\n      <td>ARCUKQ11187B9A9AC9</td>\n      <td>a9468a9a-b5ea-43b8-85c7-d86542bd2537</td>\n      <td>Lester Flatt / Earl Scruggs / The Foggy Mounta...</td>\n      <td>161.95873</td>\n      <td>0.491050</td>\n      <td>0.320367</td>\n      <td>0</td>\n      <td>227986</td>\n      <td>-1</td>\n      <td>0</td>\n      <td>36.34253</td>\n      <td>-85.29014</td>\n      <td>Overton County, TN</td>\n    </tr>\n    <tr>\n      <th>1</th>\n      <td>TRWTUUQ128F428237B</td>\n      <td>Building On Sand</td>\n      <td>SOHGRTD12A8C1390E3</td>\n      <td>Foggy Mountain Gospel</td>\n      <td>ARCUKQ11187B9A9AC9</td>\n      <td>a9468a9a-b5ea-43b8-85c7-d86542bd2537</td>\n      <td>Lester Flatt;Earl Scruggs</td>\n      <td>151.79710</td>\n      <td>0.583720</td>\n      <td>0.320367</td>\n      <td>0</td>\n      <td>3289083</td>\n      <td>-1</td>\n      <td>0</td>\n      <td>36.34253</td>\n      <td>-85.29014</td>\n      <td>Overton County, TN</td>\n    </tr>\n    <tr>\n      <th>2</th>\n      <td>TRHYKTA128F4282354</td>\n      <td>Be Ready For Tomorrow May Never Come</td>\n      <td>SOGVCPS12A58A7D6B5</td>\n      <td>Foggy Mountain Gospel</td>\n      <td>ARCUKQ11187B9A9AC9</td>\n      <td>a9468a9a-b5ea-43b8-85c7-d86542bd2537</td>\n      <td>Lester Flatt;Earl Scruggs</td>\n      <td>160.60036</td>\n      <td>0.583719</td>\n      <td>0.320367</td>\n      <td>0</td>\n      <td>3289044</td>\n      <td>-1</td>\n      <td>0</td>\n      <td>36.34253</td>\n      <td>-85.29014</td>\n      <td>Overton County, TN</td>\n    </tr>\n    <tr>\n      <th>3</th>\n      <td>TRRKXZC128F428236C</td>\n      <td>On The Rock Where Moses Stood</td>\n      <td>SOJUHEN12A8C1390AC</td>\n      <td>Foggy Mountain Gospel</td>\n      <td>ARCUKQ11187B9A9AC9</td>\n      <td>a9468a9a-b5ea-43b8-85c7-d86542bd2537</td>\n      <td>Lester Flatt;Earl Scruggs</td>\n      <td>146.49424</td>\n      <td>0.583720</td>\n      <td>0.320367</td>\n      <td>0</td>\n      <td>3289068</td>\n      <td>-1</td>\n      <td>0</td>\n      <td>36.34253</td>\n      <td>-85.29014</td>\n      <td>Overton County, TN</td>\n    </tr>\n    <tr>\n      <th>4</th>\n      <td>TRICUZR12903CE6A45</td>\n      <td>Baby Blue Eyes</td>\n      <td>SOZQNUK12AC3DF5694</td>\n      <td>Foggy Mountain Breakdown</td>\n      <td>ARCUKQ11187B9A9AC9</td>\n      <td>a9468a9a-b5ea-43b8-85c7-d86542bd2537</td>\n      <td>Flatt And Scruggs</td>\n      <td>179.80036</td>\n      <td>0.491050</td>\n      <td>0.320367</td>\n      <td>0</td>\n      <td>7603466</td>\n      <td>-1</td>\n      <td>0</td>\n      <td>36.34253</td>\n      <td>-85.29014</td>\n      <td>Overton County, TN</td>\n    </tr>\n  </tbody>\n</table>\n</div>"
     },
     "execution_count": 6,
     "metadata": {},
     "output_type": "execute_result"
    }
   ],
   "source": [
    "df_artist_location = pd.read_csv('files/artist_location.txt', sep=\"<SEP>\", header=None)\n",
    "df_artist_location.columns = [\"Artist ID\", \"X Coordinate\", \"Y Coordinate\", \"Artist\", \"City\"]\n",
    "df_artist_location = df_artist_location.drop(columns=[\"Artist\"])\n",
    "df_tracks_country = df_tracks_country.merge(df_artist_location, left_on=\"artist_id\", right_on=\"Artist ID\")\n",
    "df_tracks_country = df_tracks_country.drop(columns=[\"Artist ID\"])\n",
    "df_tracks_country.head()\n",
    "#"
   ]
  },
  {
   "cell_type": "code",
   "execution_count": 7,
   "metadata": {},
   "outputs": [
    {
     "name": "stdout",
     "output_type": "stream",
     "text": [
      "(5000, 1)\n"
     ]
    },
    {
     "name": "stderr",
     "output_type": "stream",
     "text": [
      "/var/folders/xj/0wct6fs17lj8c0qthjk1ryb80000gn/T/ipykernel_17866/1460977126.py:4: ParserWarning: Falling back to the 'python' engine because the 'c' engine does not support regex separators (separators > 1 char and different from '\\s+' are interpreted as regex); you can avoid this warning by specifying engine='python'.\n",
      "  df_reverse_mapping = pd.read_csv('files/mxm_reverse_mapping.txt', sep=\"<SEP>\", header=None)\n"
     ]
    }
   ],
   "source": [
    "df_lyric_words = pd.read_sql_query(\"SELECT * FROM words\", lyrics_db)\n",
    "print(df_lyric_words.shape)\n",
    "\n",
    "df_reverse_mapping = pd.read_csv('files/mxm_reverse_mapping.txt', sep=\"<SEP>\", header=None)\n",
    "df_reverse_mapping.columns = [\"stemmed\", \"unstemmed\"]\n",
    "# df_reverse_mapping.head()\n",
    "\n",
    "df_lyric_words = df_lyric_words.merge(df_reverse_mapping, left_on=\"word\", right_on=\"stemmed\")\n",
    "df_lyric_words = df_lyric_words.drop(columns=[\"stemmed\"])\n",
    "df_lyric_words.head()\n",
    "#\n",
    "compiled_db.commit()"
   ]
  },
  {
   "cell_type": "code",
   "execution_count": 19,
   "metadata": {},
   "outputs": [
    {
     "name": "stdout",
     "output_type": "stream",
     "text": [
      "(19045332, 5)\n"
     ]
    }
   ],
   "source": [
    "df_lyrics = pd.read_sql_query(\"SELECT * FROM lyrics\", lyrics_db)\n",
    "print(df_lyrics.shape)\n",
    "df_lyrics_country = df_lyrics[df_lyrics[\"track_id\"].isin(df_filtered[\"Track ID\"])]\n",
    "#"
   ]
  },
  {
   "cell_type": "code",
   "execution_count": 44,
   "outputs": [
    {
     "name": "stderr",
     "output_type": "stream",
     "text": [
      "/var/folders/xj/0wct6fs17lj8c0qthjk1ryb80000gn/T/ipykernel_17866/3667600348.py:1: SettingWithCopyWarning: \n",
      "A value is trying to be set on a copy of a slice from a DataFrame.\n",
      "Try using .loc[row_indexer,col_indexer] = value instead\n",
      "\n",
      "See the caveats in the documentation: https://pandas.pydata.org/pandas-docs/stable/user_guide/indexing.html#returning-a-view-versus-a-copy\n",
      "  df_lyrics_country[\"str_mult\"] = df_lyrics_country.apply(lambda x: ((x[\"word\"] + \" \") * x[\"count\"])[:-1], axis=1)\n"
     ]
    }
   ],
   "source": [
    "df_lyrics_country[\"str_mult\"] = df_lyrics_country.apply(lambda x: ((x[\"word\"] + \" \") * x[\"count\"])[:-1], axis=1)\n",
    "# print(df_lyrics_country.head())\n",
    "# https://stackoverflow.com/questions/17841149/pandas-groupby-how-to-get-a-union-of-strings\n",
    "grps = df_lyrics_country.groupby('track_id').agg(\n",
    "                          bag_lyrics=('str_mult', ' '.join)).reset_index()\n",
    "df_tracks_country = df_tracks_country.merge(grps, left_on=\"track_id\", right_on=\"track_id\")\n"
   ],
   "metadata": {
    "collapsed": false,
    "pycharm": {
     "name": "#%%\n"
    }
   }
  },
  {
   "cell_type": "code",
   "execution_count": 46,
   "outputs": [
    {
     "data": {
      "text/plain": "442674"
     },
     "execution_count": 46,
     "metadata": {},
     "output_type": "execute_result"
    }
   ],
   "source": [
    "df_lyric_words.to_sql(\"words\", compiled_db)\n",
    "df_tracks_country.to_sql(\"songs\", compiled_db)\n",
    "df_lyrics_country.to_sql(\"lyrics\", compiled_db)"
   ],
   "metadata": {
    "collapsed": false,
    "pycharm": {
     "name": "#%%\n"
    }
   }
  },
  {
   "cell_type": "markdown",
   "source": [],
   "metadata": {
    "collapsed": false
   }
  },
  {
   "cell_type": "code",
   "execution_count": null,
   "metadata": {},
   "outputs": [],
   "source": [
    "compiled_db.commit()\n",
    "lyrics_db.close()\n",
    "track_db.close()\n",
    "compiled_db.close()"
   ]
  }
 ],
 "metadata": {
  "interpreter": {
   "hash": "27746e818e79c47ba5cd0cb9e390b8fab72e028b2cf3835065a69537fa10f347"
  },
  "kernelspec": {
   "name": "python3102jvsc74a57bd027746e818e79c47ba5cd0cb9e390b8fab72e028b2cf3835065a69537fa10f347",
   "language": "python",
   "display_name": "Python 3.10.2 ('Country')"
  },
  "language_info": {
   "codemirror_mode": {
    "name": "ipython",
    "version": 3
   },
   "file_extension": ".py",
   "mimetype": "text/x-python",
   "name": "python",
   "nbconvert_exporter": "python",
   "pygments_lexer": "ipython3",
   "version": "3.8.3"
  }
 },
 "nbformat": 4,
 "nbformat_minor": 4
}
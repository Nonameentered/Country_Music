{
 "cells": [
  {
   "cell_type": "code",
   "execution_count": 2,
   "metadata": {},
   "outputs": [],
   "source": [
    "import sqlite3\n",
    "import pandas as pd\n",
    "\n"
   ]
  },
  {
   "cell_type": "code",
   "execution_count": 3,
   "metadata": {},
   "outputs": [],
   "source": [
    "lyrics_db = sqlite3.connect('files/mxm_dataset.db')\n",
    "track_db = sqlite3.connect('files/track_metadata.db')\n",
    "compiled_db = sqlite3.connect('files/country_song_project.db')\n",
    "\n"
   ]
  },
  {
   "cell_type": "code",
   "execution_count": null,
   "metadata": {},
   "outputs": [],
   "source": [
    "df = pd.read_csv('files/msd_tagtraum_cd2c.cls', sep=\"\\t\", header=None, skiprows=7)\n",
    "df.columns = [\"Track ID\", \"Genre\"]\n",
    "df_filtered = df[df[\"Genre\"] == \"Country\"]\n",
    "\n"
   ]
  },
  {
   "cell_type": "code",
   "execution_count": null,
   "metadata": {},
   "outputs": [],
   "source": [
    "df_tracks = pd.read_sql_query(\"SELECT * FROM songs\", track_db)\n",
    "df_tracks_country = df_tracks[df_tracks[\"track_id\"].isin(df_filtered[\"Track ID\"])]\n",
    "print(df_tracks_country.shape)\n",
    "df_tracks_country.to_sql(\"songs\", compiled_db)\n",
    "\n"
   ]
  },
  {
   "cell_type": "code",
   "execution_count": 19,
   "metadata": {},
   "outputs": [
    {
     "name": "stdout",
     "output_type": "stream",
     "text": [
      "(5000, 1)\n"
     ]
    },
    {
     "name": "stderr",
     "output_type": "stream",
     "text": [
      "/var/folders/xj/0wct6fs17lj8c0qthjk1ryb80000gn/T/ipykernel_27651/2458353937.py:4: ParserWarning: Falling back to the 'python' engine because the 'c' engine does not support regex separators (separators > 1 char and different from '\\s+' are interpreted as regex); you can avoid this warning by specifying engine='python'.\n",
      "  df_reverse_mapping = pd.read_csv('files/mxm_reverse_mapping.txt', sep=\"<SEP>\", header=None)\n"
     ]
    }
   ],
   "source": [
    "df_lyric_words = pd.read_sql_query(\"SELECT * FROM words\", lyrics_db)\n",
    "print(df_lyric_words.shape)\n",
    "\n",
    "df_reverse_mapping = pd.read_csv('files/mxm_reverse_mapping.txt', sep=\"<SEP>\", header=None)\n",
    "df_reverse_mapping.columns = [\"stemmed\", \"unstemmed\"]\n",
    "# df_reverse_mapping.head()\n",
    "\n",
    "df_lyric_words = df_lyric_words.merge(df_reverse_mapping, left_on=\"word\", right_on=\"stemmed\")\n",
    "df_lyric_words = df_lyric_words.drop(columns=[\"stemmed\"])\n",
    "df_lyric_words.head()\n",
    "df_lyric_words.to_sql(\"words\", compiled_db)\n",
    "compiled_db.commit()"
   ]
  },
  {
   "cell_type": "code",
   "execution_count": null,
   "metadata": {},
   "outputs": [],
   "source": [
    "df_lyrics = pd.read_sql_query(\"SELECT * FROM lyrics\", lyrics_db)\n",
    "print(df_lyrics.shape)\n",
    "df_lyrics_country = df_lyrics[df_lyrics[\"track_id\"].isin(df_filtered[\"Track ID\"])]\n",
    "df_lyrics_country.to_sql(\"lyrics\", compiled_db)"
   ]
  },
  {
   "cell_type": "code",
   "execution_count": 11,
   "metadata": {},
   "outputs": [],
   "source": [
    "compiled_db.commit()\n",
    "lyrics_db.close()\n",
    "track_db.close()\n",
    "compiled_db.close()"
   ]
  }
 ],
 "metadata": {
  "interpreter": {
   "hash": "27746e818e79c47ba5cd0cb9e390b8fab72e028b2cf3835065a69537fa10f347"
  },
  "kernelspec": {
   "display_name": "Python 3.10.2 ('Country')",
   "language": "python",
   "name": "python3"
  },
  "language_info": {
   "codemirror_mode": {
    "name": "ipython",
    "version": 3
   },
   "file_extension": ".py",
   "mimetype": "text/x-python",
   "name": "python",
   "nbconvert_exporter": "python",
   "pygments_lexer": "ipython3",
   "version": "3.10.2"
  },
  "orig_nbformat": 4
 },
 "nbformat": 4,
 "nbformat_minor": 2
}
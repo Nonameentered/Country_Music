{
 "cells": [
  {
   "cell_type": "code",
   "execution_count": 1,
   "metadata": {
    "collapsed": true,
    "pycharm": {
     "name": "#%%\n"
    }
   },
   "outputs": [],
   "source": [
    "import musicbrainzngs\n",
    "from musicbrainzngs import WebServiceError\n",
    "\n",
    "musicbrainzngs.set_useragent(\"Nouserentered Song Analysis Project\", \"0.1.0\", contact=\"matthew.shu@yale.edu\"\n",
    "                             )"
   ]
  },
  {
   "cell_type": "code",
   "execution_count": 188,
   "outputs": [],
   "source": [
    "from difflib import SequenceMatcher\n",
    "\n",
    "# Modified from: https://stackoverflow.com/a/17388505\n",
    "def match(orig_name, found_name):\n",
    "    return SequenceMatcher(None, orig_name, found_name).ratio() > .7"
   ],
   "metadata": {
    "collapsed": false,
    "pycharm": {
     "name": "#%%\n"
    }
   }
  },
  {
   "cell_type": "code",
   "execution_count": null,
   "outputs": [],
   "source": [],
   "metadata": {
    "collapsed": false,
    "pycharm": {
     "name": "#%%\n"
    }
   }
  },
  {
   "cell_type": "code",
   "execution_count": 189,
   "outputs": [],
   "source": [
    "def search_artist(artist_id: int, name: str):\n",
    "    try:\n",
    "        result = musicbrainzngs.search_artists(name)\n",
    "    except WebServiceError as exc:\n",
    "        print(\"Something went wrong with the request: %s\" % exc)\n",
    "    else:\n",
    "        artist = result[\"artist-list\"]\n",
    "        if len(artist) != 0 and match(artist[0][\"name\"], name):\n",
    "            # Currently just takes the top artist, isn't always great if there are multiple artists!\n",
    "            top_artist = artist[0]\n",
    "            top_artist[\"artist_id\"] = artist_id\n",
    "            return top_artist\n",
    "        else:\n",
    "            return {\"name\": name, \"artist_id\": artist_id}\n",
    "def search_artist_series(artist_id: int, name: str):\n",
    "    artist_data = search_artist(artist_id, name)\n",
    "    if artist_data:\n",
    "        return pd.json_normalize(artist_data).iloc[0]\n",
    "    else:\n",
    "        return"
   ],
   "metadata": {
    "collapsed": false,
    "pycharm": {
     "name": "#%%\n"
    }
   }
  },
  {
   "cell_type": "markdown",
   "source": [
    "# Load Data"
   ],
   "metadata": {
    "collapsed": false,
    "pycharm": {
     "name": "#%% md\n"
    }
   }
  },
  {
   "cell_type": "code",
   "execution_count": 190,
   "outputs": [
    {
     "name": "stdout",
     "output_type": "stream",
     "text": [
      "The dotenv extension is already loaded. To reload it, use:\n",
      "  %reload_ext dotenv\n"
     ]
    }
   ],
   "source": [
    "%load_ext dotenv\n",
    "%dotenv\n",
    "\n",
    "import os\n",
    "import sqlite3\n",
    "import pandas as pd"
   ],
   "metadata": {
    "collapsed": false,
    "pycharm": {
     "name": "#%%\n"
    }
   }
  },
  {
   "cell_type": "code",
   "execution_count": 191,
   "outputs": [
    {
     "name": "stdout",
     "output_type": "stream",
     "text": [
      "   index  track_id  year              artist  \\\n",
      "0      0         0  1944           Red Foley   \n",
      "1      1         1  1944  The King Cole Trio   \n",
      "2      2         2  1944        Louis Jordan   \n",
      "3      3         3  1944          Tex Ritter   \n",
      "4      4         4  1944        Louis Jordan   \n",
      "\n",
      "                                  track  rank  \\\n",
      "0                    Smoke On The Water     1   \n",
      "1           Straighten Up And Fly Right     2   \n",
      "2  Is You Is or Is You Ain't (Ma' Baby)     3   \n",
      "3           I'm Wastin' My Tears on You     4   \n",
      "4                          Ration Blues     5   \n",
      "\n",
      "                                                link  \\\n",
      "0  /charts/country/video/1944/red-foley-smoke-on-...   \n",
      "1  /charts/country/video/1944/the-king-cole-trio-...   \n",
      "2  /charts/country/video/1944/louis-jordan-is-you...   \n",
      "3  /charts/country/video/1944/tex-ritter-im-wasti...   \n",
      "4  /charts/country/video/1944/louis-jordan-ration...   \n",
      "\n",
      "                                              lyrics  \n",
      "0  Smoke On The Water LyricsThere will be a sad d...  \n",
      "1  Straighten Up and Fly Right LyricsA buzzard to...  \n",
      "2  Is You Is Or Is You Ain’t (ma Baby) LyricsBing...  \n",
      "3  List of Number One Country Songs Lyrics1944\\nB...  \n",
      "4  Ration Blues LyricsBaby, baby, baby\\nWhat's wr...  \n"
     ]
    }
   ],
   "source": [
    "SQL_FILEPATH = os.getenv(\"PLAYBACK_FILE\")\n",
    "lyrics_db = sqlite3.connect(SQL_FILEPATH)\n",
    "\n",
    "df = pd.read_sql_query(\"SELECT * FROM lyrics\", lyrics_db)\n",
    "print(df.head())"
   ],
   "metadata": {
    "collapsed": false,
    "pycharm": {
     "name": "#%%\n"
    }
   }
  },
  {
   "cell_type": "markdown",
   "source": [
    "# Search Musicbrainz"
   ],
   "metadata": {
    "collapsed": false
   }
  },
  {
   "cell_type": "code",
   "execution_count": 192,
   "outputs": [
    {
     "data": {
      "text/plain": "   index  track_id  year              artist  \\\n0      0         0  1944           Red Foley   \n1      1         1  1944  The King Cole Trio   \n2      2         2  1944        Louis Jordan   \n3      3         3  1944          Tex Ritter   \n4      4         4  1944        Louis Jordan   \n\n                                  track  rank  \\\n0                    Smoke On The Water     1   \n1           Straighten Up And Fly Right     2   \n2  Is You Is or Is You Ain't (Ma' Baby)     3   \n3           I'm Wastin' My Tears on You     4   \n4                          Ration Blues     5   \n\n                                                link  \\\n0  /charts/country/video/1944/red-foley-smoke-on-...   \n1  /charts/country/video/1944/the-king-cole-trio-...   \n2  /charts/country/video/1944/louis-jordan-is-you...   \n3  /charts/country/video/1944/tex-ritter-im-wasti...   \n4  /charts/country/video/1944/louis-jordan-ration...   \n\n                                              lyrics  \n0  Smoke On The Water LyricsThere will be a sad d...  \n1  Straighten Up and Fly Right LyricsA buzzard to...  \n2  Is You Is Or Is You Ain’t (ma Baby) LyricsBing...  \n3  List of Number One Country Songs Lyrics1944\\nB...  \n4  Ration Blues LyricsBaby, baby, baby\\nWhat's wr...  ",
      "text/html": "<div>\n<style scoped>\n    .dataframe tbody tr th:only-of-type {\n        vertical-align: middle;\n    }\n\n    .dataframe tbody tr th {\n        vertical-align: top;\n    }\n\n    .dataframe thead th {\n        text-align: right;\n    }\n</style>\n<table border=\"1\" class=\"dataframe\">\n  <thead>\n    <tr style=\"text-align: right;\">\n      <th></th>\n      <th>index</th>\n      <th>track_id</th>\n      <th>year</th>\n      <th>artist</th>\n      <th>track</th>\n      <th>rank</th>\n      <th>link</th>\n      <th>lyrics</th>\n    </tr>\n  </thead>\n  <tbody>\n    <tr>\n      <th>0</th>\n      <td>0</td>\n      <td>0</td>\n      <td>1944</td>\n      <td>Red Foley</td>\n      <td>Smoke On The Water</td>\n      <td>1</td>\n      <td>/charts/country/video/1944/red-foley-smoke-on-...</td>\n      <td>Smoke On The Water LyricsThere will be a sad d...</td>\n    </tr>\n    <tr>\n      <th>1</th>\n      <td>1</td>\n      <td>1</td>\n      <td>1944</td>\n      <td>The King Cole Trio</td>\n      <td>Straighten Up And Fly Right</td>\n      <td>2</td>\n      <td>/charts/country/video/1944/the-king-cole-trio-...</td>\n      <td>Straighten Up and Fly Right LyricsA buzzard to...</td>\n    </tr>\n    <tr>\n      <th>2</th>\n      <td>2</td>\n      <td>2</td>\n      <td>1944</td>\n      <td>Louis Jordan</td>\n      <td>Is You Is or Is You Ain't (Ma' Baby)</td>\n      <td>3</td>\n      <td>/charts/country/video/1944/louis-jordan-is-you...</td>\n      <td>Is You Is Or Is You Ain’t (ma Baby) LyricsBing...</td>\n    </tr>\n    <tr>\n      <th>3</th>\n      <td>3</td>\n      <td>3</td>\n      <td>1944</td>\n      <td>Tex Ritter</td>\n      <td>I'm Wastin' My Tears on You</td>\n      <td>4</td>\n      <td>/charts/country/video/1944/tex-ritter-im-wasti...</td>\n      <td>List of Number One Country Songs Lyrics1944\\nB...</td>\n    </tr>\n    <tr>\n      <th>4</th>\n      <td>4</td>\n      <td>4</td>\n      <td>1944</td>\n      <td>Louis Jordan</td>\n      <td>Ration Blues</td>\n      <td>5</td>\n      <td>/charts/country/video/1944/louis-jordan-ration...</td>\n      <td>Ration Blues LyricsBaby, baby, baby\\nWhat's wr...</td>\n    </tr>\n  </tbody>\n</table>\n</div>"
     },
     "execution_count": 192,
     "metadata": {},
     "output_type": "execute_result"
    }
   ],
   "source": [
    "small_df = df.head()\n",
    "small_df"
   ],
   "metadata": {
    "collapsed": false,
    "pycharm": {
     "name": "#%%\n"
    }
   }
  },
  {
   "cell_type": "markdown",
   "source": [],
   "metadata": {
    "collapsed": false
   }
  },
  {
   "cell_type": "code",
   "execution_count": 193,
   "outputs": [],
   "source": [
    "# https://datascience.stackexchange.com/a/89267\n",
    "df['artist_id'] = pd.factorize(df['artist'])[0] + 1 # just don't want to start at 0"
   ],
   "metadata": {
    "collapsed": false,
    "pycharm": {
     "name": "#%%\n"
    }
   }
  },
  {
   "cell_type": "code",
   "execution_count": 194,
   "outputs": [
    {
     "name": "stdout",
     "output_type": "stream",
     "text": [
      "1177\n"
     ]
    }
   ],
   "source": [
    "artists = df.artist.unique()\n",
    "artists_head = artists\n",
    "print(artists_head.size)"
   ],
   "metadata": {
    "collapsed": false,
    "pycharm": {
     "name": "#%%\n"
    }
   }
  },
  {
   "cell_type": "code",
   "execution_count": 195,
   "outputs": [],
   "source": [
    "df_unique_artists = df.groupby('artist', as_index=False).first()"
   ],
   "metadata": {
    "collapsed": false,
    "pycharm": {
     "name": "#%%\n"
    }
   }
  },
  {
   "cell_type": "code",
   "execution_count": 197,
   "outputs": [
    {
     "data": {
      "text/plain": "  0%|          | 0/1177 [00:00<?, ?it/s]",
      "application/vnd.jupyter.widget-view+json": {
       "version_major": 2,
       "version_minor": 0,
       "model_id": "80e63a77e3e9471bb8636db52b4d71b9"
      }
     },
     "metadata": {},
     "output_type": "display_data"
    }
   ],
   "source": [
    "artists_df = df_unique_artists.progress_apply(lambda row: search_artist_series(row[\"artist_id\"], row[\"artist\"]), axis=1)"
   ],
   "metadata": {
    "collapsed": false,
    "pycharm": {
     "name": "#%%\n"
    }
   }
  },
  {
   "cell_type": "code",
   "execution_count": 198,
   "outputs": [],
   "source": [
    "artists_df.to_pickle(\"22-04-27-artists-pickle\")"
   ],
   "metadata": {
    "collapsed": false,
    "pycharm": {
     "name": "#%%\n"
    }
   }
  },
  {
   "cell_type": "code",
   "execution_count": 199,
   "outputs": [],
   "source": [
    "artists_df.columns = [i.replace('-', '_') for i in artists_df.columns]"
   ],
   "metadata": {
    "collapsed": false,
    "pycharm": {
     "name": "#%%\n"
    }
   }
  },
  {
   "cell_type": "code",
   "execution_count": 200,
   "outputs": [
    {
     "data": {
      "text/plain": "1177"
     },
     "execution_count": 200,
     "metadata": {},
     "output_type": "execute_result"
    }
   ],
   "source": [],
   "metadata": {
    "collapsed": false,
    "pycharm": {
     "name": "#%%\n"
    }
   }
  },
  {
   "cell_type": "code",
   "execution_count": 201,
   "outputs": [],
   "source": [
    "df['artist_appearances'] = df.groupby('artist_id')['artist_id'].transform('count')"
   ],
   "metadata": {
    "collapsed": false,
    "pycharm": {
     "name": "#%%\n"
    }
   }
  },
  {
   "cell_type": "code",
   "execution_count": 207,
   "outputs": [],
   "source": [
    "artists_df = artists_df.rename(columns={\"id\": \"mb_id\"})"
   ],
   "metadata": {
    "collapsed": false,
    "pycharm": {
     "name": "#%%\n"
    }
   }
  },
  {
   "cell_type": "code",
   "execution_count": 208,
   "outputs": [
    {
     "data": {
      "text/plain": "7418"
     },
     "execution_count": 208,
     "metadata": {},
     "output_type": "execute_result"
    }
   ],
   "source": [
    "artists_df.applymap(str).to_sql(\"artists\", lyrics_db, if_exists=\"replace\")\n",
    "df.to_sql(\"lyrics\", lyrics_db, if_exists=\"replace\")"
   ],
   "metadata": {
    "collapsed": false,
    "pycharm": {
     "name": "#%%\n"
    }
   }
  },
  {
   "cell_type": "code",
   "execution_count": null,
   "outputs": [],
   "source": [],
   "metadata": {
    "collapsed": false,
    "pycharm": {
     "name": "#%%\n"
    }
   }
  },
  {
   "cell_type": "code",
   "execution_count": null,
   "outputs": [],
   "source": [],
   "metadata": {
    "collapsed": false,
    "pycharm": {
     "name": "#%%\n"
    }
   }
  },
  {
   "cell_type": "code",
   "execution_count": null,
   "outputs": [],
   "source": [],
   "metadata": {
    "collapsed": false,
    "pycharm": {
     "name": "#%%\n"
    }
   }
  },
  {
   "cell_type": "code",
   "execution_count": null,
   "outputs": [],
   "source": [],
   "metadata": {
    "collapsed": false,
    "pycharm": {
     "name": "#%%\n"
    }
   }
  },
  {
   "cell_type": "code",
   "execution_count": null,
   "outputs": [],
   "source": [],
   "metadata": {
    "collapsed": false,
    "pycharm": {
     "name": "#%%\n"
    }
   }
  },
  {
   "cell_type": "code",
   "execution_count": null,
   "outputs": [],
   "source": [],
   "metadata": {
    "collapsed": false,
    "pycharm": {
     "name": "#%%\n"
    }
   }
  },
  {
   "cell_type": "code",
   "execution_count": null,
   "outputs": [],
   "source": [],
   "metadata": {
    "collapsed": false,
    "pycharm": {
     "name": "#%%\n"
    }
   }
  },
  {
   "cell_type": "code",
   "execution_count": null,
   "outputs": [],
   "source": [],
   "metadata": {
    "collapsed": false,
    "pycharm": {
     "name": "#%%\n"
    }
   }
  },
  {
   "cell_type": "code",
   "execution_count": null,
   "outputs": [],
   "source": [],
   "metadata": {
    "collapsed": false,
    "pycharm": {
     "name": "#%%\n"
    }
   }
  },
  {
   "cell_type": "code",
   "execution_count": null,
   "outputs": [],
   "source": [],
   "metadata": {
    "collapsed": false,
    "pycharm": {
     "name": "#%%\n"
    }
   }
  },
  {
   "cell_type": "code",
   "execution_count": null,
   "outputs": [],
   "source": [],
   "metadata": {
    "collapsed": false,
    "pycharm": {
     "name": "#%%\n"
    }
   }
  },
  {
   "cell_type": "code",
   "execution_count": null,
   "outputs": [],
   "source": [],
   "metadata": {
    "collapsed": false,
    "pycharm": {
     "name": "#%%\n"
    }
   }
  },
  {
   "cell_type": "code",
   "execution_count": null,
   "outputs": [],
   "source": [],
   "metadata": {
    "collapsed": false,
    "pycharm": {
     "name": "#%%\n"
    }
   }
  }
 ],
 "metadata": {
  "kernelspec": {
   "display_name": "Python 3",
   "language": "python",
   "name": "python3"
  },
  "language_info": {
   "codemirror_mode": {
    "name": "ipython",
    "version": 2
   },
   "file_extension": ".py",
   "mimetype": "text/x-python",
   "name": "python",
   "nbconvert_exporter": "python",
   "pygments_lexer": "ipython2",
   "version": "2.7.6"
  }
 },
 "nbformat": 4,
 "nbformat_minor": 0
}